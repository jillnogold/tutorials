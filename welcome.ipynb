{
 "cells": [
  {
   "cell_type": "markdown",
   "metadata": {},
   "source": [
    "# Welcome to the Iguazio MLOps Platform\n",
    "\n",
    "An initial introduction to the Iguazio MLOps Platform and the platform tutorials"
   ]
  },
  {
   "cell_type": "markdown",
   "metadata": {},
   "source": [
    "- [Platform Overview](#platform-overview)\n",
    "- [Data Science Workflow](#data-science-workflow)\n",
    "- [The Tutorial Notebooks](#the-tutorial-notebooks)\n",
    "- [Getting-Started Tutorial](#getting-started-tutorial)\n",
    "- [End-to-End Use-Case Application and How-To Demos](#demos)\n",
    "- [Installing and Updating the MLRun Python Package](#mlrun-python-pkg-install-n-update)\n",
    "- [Additional Platform Resources](#platform-resources)\n",
    "- [Miscellaneous](#misc)"
   ]
  },
  {
   "cell_type": "markdown",
   "metadata": {},
   "source": [
    "<a id=\"platform-overview\"></a>"
   ]
  },
  {
   "cell_type": "markdown",
   "metadata": {},
   "source": [
    "## Platform Overview\n",
    "\n",
    "he Iguazio AI Platform (**\"the platform\"**) is a fully integrated and secure data science platform that powers operational and responsible (gen) AI pipelines.\n",
    "The platform provides:\n",
    "\n",
    "- **Data Management**: Ensure data quality through data ingestion, transformation, cleansing, versioning, tagging, \n",
    "labeling, indexing and more.\n",
    "- **Development and CI/CD**: Train and customize LLMs and AI models with high-quality model fine-tuning, RAG, \n",
    "RAFT & more. Validate and deploy with CI/CD for AI/ML.\n",
    "- **Deployment/Inference**: Bring business value to live applications through a real-time application \n",
    "pipeline that handles requests, data, model and validations.\n",
    "- **Monitoring & LiveOps**: Continuously monitor AI applications to improve performance, address regulation needs, \n",
    "remove PII, mitigate bias and more.\n",
    "\n",
    "The platform components/capabilities used to implement the workflow are:\n",
    "\n",
    "- A data science workbench that includes integrated analytics engines, and Python packages. You can work with your favorite \n",
    "IDE (e.g. Pycharm, VScode, Jupyter, Colab, etc.). Read how to configure your client against the deployed MLRun server in \n",
    "[Setting up your Environment](https://www.iguazio.com/docs/latest-release/intro/setup-env/).\n",
    "- The [MLRun](https://mlrun.readthedocs.io) open-source orchestration framework for simplified management of your continuous \n",
    "ML and gen AI applications across their lifecycles.\n",
    "- The [Nuclio](https://nuclio.io/) real-time serverless functions framework for model serving.\n",
    "- Integration with third-party data sources such as Amazon S3, HDFS, SQL databases, and streaming or messaging protocols\n",
    "- Real-time dashboards based on Grafana."
   ]
  },
  {
   "cell_type": "markdown",
   "metadata": {},
   "source": [
    "<a id=\"data-science-workflow\"></a>"
   ]
  },
  {
   "cell_type": "markdown",
   "metadata": {},
   "source": [
    "## Data Science Workflow\n",
    "\n",
    "The platform provides a complete data science workflow in a single ready-to-use platform that includes all the required building blocks for creating data science applications from research to production:\n",
    "\n",
    "- Collect, explore, and label data from various real-time or offline sources\n",
    "- Run gen AI and ML training and validation, at scale, over multiple CPUs and GPUs\n",
    "- Deploy models and applications into production with serverless functions\n",
    "- Log, monitor, and visualize all your data and services\n",
    "\n",
    "<br><img src=\"/assets/images/data-science-workflow.png\" alt=\"Data science workflow\" width=\"700\"/></a><br>"
   ]
  },
  {
   "cell_type": "markdown",
   "metadata": {},
   "source": [
    "<a id=\"the-tutorial-notebooks\"></a>"
   ]
  },
  {
   "cell_type": "markdown",
   "metadata": {},
   "source": [
    "## The Tutorial Notebooks\n",
    "\n",
    "The home directory of the platform's running-user directory (**/User/&lt;running user&gt;**) contains pre-deployed tutorial Jupyter notebooks with code samples and documentation to assist you in your development &mdash; including a [**demos**](demos/README.ipynb) directory with end-to-end use-case applications (see the next section).\n",
    "\n",
    "> **Note:**\n",
    "> - To view and run the tutorials from the platform, use your IDE. See [Setting up your Environment](https://www.iguazio.com/docs/latest-release/intro/setup-env/). (Alternatively, you can create a Jupyter Notebook service).\n",
    "> - The **welcome.ipynb** notebook and main **README.md** file provide the same introduction in different formats."
   ]
  },
  {
   "cell_type": "markdown",
   "metadata": {},
   "source": [
    "<a id=\"getting-started-tutorial\"></a>"
   ]
  },
  {
   "cell_type": "markdown",
   "metadata": {},
   "source": [
    "## Getting-Started Tutorial\n",
    "\n",
    "Start out by running the Quick start tutorial to familiarize yourself with the platform and experience firsthand some of its main capabilities.\n",
    "\n",
    "<a href=\"https://docs.mlrun.org/en/stable/tutorials/01-mlrun-basics.html\"><img src=\"./assets/images/view-tutorial-button.png\" alt=\"View tutorial\"/></a>"
   ]
  },
  {
   "cell_type": "markdown",
   "metadata": {},
   "source": [
    "<a id=\"demos\"></a>"
   ]
  },
  {
   "cell_type": "markdown",
   "metadata": {},
   "source": [
    "## Demos\n",
    "\n",
    "Iguazio provides full end-to-end use-case application demos that demonstrate how to use the platform, its MLRun service, and related tools to address data science requirements for different industries and implementations.\n",
    "\n",
    " <a id=\"end-to-end-use-case-applications\"></a>\n",
    "\n",
    "### Gen AI Demos\n",
    "\n",
    "<table width='100%'>\n",
    "<table align=\"left\">\n",
    "    <tr align=\"left\" style=\"border-bottom: 1pt solid black;\">\n",
    "    <th style=\"width:15%; vertical-align:'top'; font-weight:bold;\">Demo</th>\n",
    "    <th style=\"width:85%; vertical-align:'top'; font-weight:bold;\">Description</th>\n",
    "    </tr>\n",
    "    <tr>\n",
    "    <td style='min-width:45px;'>\n",
    "        <b>\t<a href=\"https://github.com/mlrun/demo-call-center/blob/main/README.md\">Call center</a></b>\n",
    "        </td>\n",
    "        <td>This demo showcases how to use LLMs to turn audio files, from call center conversations between \n",
    "\t\tcustomers and agents, into valuable data &mdash; all in a single workflow orchestrated by MLRun.\n",
    "        MLRun automates the entire workflow, auto-scales resources as needed, and automatically logs and \n",
    "\t\tparses values between the different workflow steps.\t\t\n",
    "        </td>\n",
    "    </tr>\n",
    "    <tr>\n",
    "    <td align=\"left\" style='min-width:45px;'>\n",
    "        <b>\t<a href=\"https://github.com/mlrun/demo-llm-tuning/blob/main/README.md\">Build & deploy custom (fine-tuned) \n",
    "            LLM models and applications</a></b>\n",
    "        </td>\n",
    "        <td align=\"left\" >This demo shows how to fine-tune an LLM and build a chatbot that can answer \n",
    "            all your questions about MLRun's MLOps. It starts with a pre-trained model from Hugging Face, \n",
    "            fine tunes the model, creates an automated training pipeline, and deploys a serving graph. \n",
    "            The serving graph includes post-processing for accuracy of generated text, and filtering for toxicity.\t\t\n",
    "        </td>\n",
    "    </tr>\t\n",
    "   \t<tr>\n",
    "    <td style='min-width:45px;'>\n",
    "        <b>\t<a href=\"https://github.com/mlrun/demo-monitoring-and-feedback-loop/blob/main/README.md\">Build & deploy custom (fine-tuned) LLM models and applications</a></b>\n",
    "        </td>\n",
    "        <td align=\"left\" >This demo showcases how to train, deploy, and monitor LLM using an approach described as LLM \n",
    "            as a judge. It demo illustrates training an open-source model to answer banking-related questions only. \n",
    "            It does this by analyzing the responses that were generated by the model traffic, and retraining the model \n",
    "            according to the performance. The model performance analysis is done by a separate LLM that judges the \n",
    "            results. Once the dataset is large enough, you can then retrain the model and mesure the performance again.\t\t\n",
    "        </td>\n",
    "    </tr>\t\n",
    "    <tr>\n",
    "    <td style='min-width:45px;'>\n",
    "        <b>\t<a href=\"https://github.com/mlrun/demo-llm-bot/blob/main/README.md\">Interactive Bot Demo using LLMs and MLRun</a></b>\n",
    "        </td>\n",
    "        <td align=\"left\" >This repository demonstrates the usage of Language Models (LLMs) and MLRun to build an \n",
    "            interactive chatbot using your own data for Retrieval Augmented Question Answering. The data is \n",
    "            ingested and indexed into a Vector Database to be queried by an LLM in real-time.\n",
    "            \n",
    "            The project utilizes MLRun for orchestration/deployment, HuggingFace embeddings for indexing data, \n",
    "            Milvus for the vector database, OpenAI's GPT-3.5 model for generating responses, Langchain to \n",
    "            retrieve relevant data from the vector store and augment the response from the LLM, and Gradio \n",
    "            for building an interactive frontend.\t\n",
    "        </td>\n",
    "    </tr>\t\n",
    "</table>\n",
    "\n",
    "<a id=\"howto-demos\"></a>\n",
    "### ML Demos\n",
    "\n",
    "You can update these demos with the [**update-demos.sh**](https://github.com/mlrun/demos/blob/master/update_demos.sh) \n",
    "script to get latest demos from this repository. \n",
    "By default, the script retrieves the files from the latest release that matches the version of the installed `mlrun` package (see [Installing and Updating the MLRun Python Package](#mlrun-python-pkg-install-n-update)).\n",
    "The files are copied to the **/v3io/users/&lt;username&gt;/demos** directory, where `<username>` is the name of the running user (`$V3IO_USERNAME`) unless you set the `-u|--user` flag to another username.\n",
    "> **Note:** Before running the script, close any open files in the **demos** directory."
   ]
  },
  {
   "cell_type": "code",
   "execution_count": null,
   "metadata": {},
   "outputs": [],
   "source": [
    "# Get additional demos\n",
    "!/User/update-demos.sh"
   ]
  },
  {
   "cell_type": "markdown",
   "metadata": {},
   "source": [
    "For full usage instructions, run the script with the `-h` or `--help` flag:"
   ]
  },
  {
   "cell_type": "code",
   "execution_count": null,
   "metadata": {},
   "outputs": [],
   "source": [
    "!/User/update-demos.sh --help"
   ]
  },
  {
   "cell_type": "markdown",
   "metadata": {},
   "source": [
    "<a id=\"end-to-end-use-case-applications\"></a>"
   ]
  },
  {
   "cell_type": "markdown",
   "metadata": {},
   "source": [
    "<table align=\"left\">\n",
    "    <tr>\n",
    "        <td><b>Mask detection</b></td>\n",
    "        <td align=\"center\", style=\"min-width:45px; padding: 10px;\">\n",
    "            <a href=\"demos/mask-detection/README.md\"><img src=\"./assets/images/Jupyter-Logo-32px.png\"/><br>Open locally</a>\n",
    "        </td>\n",
    "        <td align=\"center\", style=\"min-width:45px; padding: 10px;\">\n",
    "            <a target=\"_blank\" href=\"https://github.com/mlrun/demo-mask-detection.git\">\n",
    "                <img src=\"./assets/images/GitHub-Mark-32px.png\"/><br>View on GitHub</a>\n",
    "        </td>\n",
    "        <td>This demo contains 3 notebooks that:\n",
    "      1. Train and evaluate a model for detecting if a person is wearing a mask in an image by using Tensorflow.Keras or PyTorch.<br>\n",
    "      2. Serve the model as a serverless function in a http endpoint.<br>\n",
    "      3. Write an automatic pipeline where we download a dataset of images, train and evaluate the model, then optimize the model (using ONNX) and serve it.\n",
    "        </td>\n",
    "    </tr>\n",
    "    <tr>\n",
    "        <td><b>Fraud Prevention - Iguazio Feature Store</b></td>\n",
    "        <td align=\"center\", style=\"min-width:45px; padding: 10px;\">\n",
    "            <a href=\"demos/fraud-prevention-feature-store/README.md\"><img src=\"./assets/images/Jupyter-Logo-32px.png\"/><br>Open locally</a>\n",
    "        </td>\n",
    "        <td align=\"center\", style=\"min-width:45px; padding: 10px;\">\n",
    "            <a target=\"_blank\" href=\"https://github.com/mlrun/demo-fraud\">\n",
    "                <img src=\"./assets/images/GitHub-Mark-32px.png\"/><br>View on GitHub</a>\n",
    "        </td>\n",
    "        <td>Demonstrates the feature store usage for fraud prevention: Data ingestion & preparation; Model training & testing; Model serving; Building An Automated ML Pipeline.\n",
    "        </td>\n",
    "    </tr>\n",
    "    <tr>\n",
    "        <td><b>Building Production Pipelines with AzureML and MLRun</b></td>\n",
    "        <td align=\"center\", style=\"min-width:45px; padding: 10px;\">\n",
    "            <a href=\"demos/news-article-nlp/README.md\"><img src=\"./assets/images/Jupyter-Logo-32px.png\"/><br>Open locally</a>\n",
    "        </td>\n",
    "        <td align=\"center\", style=\"min-width:45px; padding: 10px;\">\n",
    "            <a target=\"_blank\" href=\"https://github.com/mlrun/demo-azure-ML.git\"><img src=\"./assets/images/GitHub-Mark-32px.png\"/><br>View on GitHub</a>\n",
    "        </td>\n",
    "        <td>This demo uses the MLRun Feature Store to ingest and prepare data, create an offline feature vector (snapshot) for training, run AzureML AutoML Service as an automated step (function) in MLRun, view and compare the AzureML Models using MLRun tools, Build a real-time serving pipeline, and provide real-time model monitoring\n",
    "        </td>\n",
    "    </tr>\n",
    "    <tr>\n",
    "        <td><b>AWS SageMaker</b></td>\n",
    "        <td align=\"center\", style=\"min-width:45px; padding: 10px;\">\n",
    "            <a href=\"demos/network-operations/README.md\"><img src=\"./assets/images/Jupyter-Logo-32px.png\"/><br>Open locally</a>\n",
    "        </td>\n",
    "        <td align=\"center\", style=\"min-width:45px; padding: 10px;\">\n",
    "            <a target=\"_blank\" href=\"https://github.com/mlrun/demo-sagemaker/blob/main/README.md\"><img src=\"./assets/images/GitHub-Mark-32px.png\"/><br>View on GitHub</a>\n",
    "        </td>\n",
    "        <td >This demo showcases how to build, manage, and deploy ML models using AWS SageMaker and MLRun. \n",
    "\t\tIt emphasizes the automation of ML workflows from development to production.\n",
    "        </td>\n",
    "    </tr>\n",
    "</table>"
   ]
  },
  {
   "cell_type": "markdown",
   "metadata": {},
   "source": [
    "<a id=\"howto-demos\"></a>"
   ]
  },
  {
   "cell_type": "markdown",
   "metadata": {},
   "source": [
    "<a id=\"mlrun-python-pkg-install-n-update\"></a>"
   ]
  },
  {
   "cell_type": "markdown",
   "metadata": {},
   "source": [
    "## Installing and Updating the MLRun Python Package\n",
    "\n",
    "The demo applications and many of the platform tutorials use [MLRun](https://docs.mlrun.org) &mdash; Iguazio's end-to-end open-source MLOps solution for managing and automating your entire analytics and machine-learning life cycle, from data ingestion through model development to full pipeline deployment in production.\n",
    "MLRun is available in the platform via a default (pre-deployed) shared platform service (`mlrun`).\n",
    "However, to use MLRun from Python code (such as in the demo and tutorial notebooks), you also need to install the [MLRun Python package](https://docs.mlrun.org) (`mlrun`).\n",
    "The version of the installed package must match the version of the platform's MLRun service and must be updated whenever the service's version is updated.\n",
    "\n",
    "The platform provides an [**align_mlrun.sh**](./align_mlrun.sh) script for simplifying the MLRun package installation and version synchronization with the MLRun service.\n",
    "The script is available in the running-user directory (your Jupyter home directory), which is accessible via the `/User` data mount.\n",
    "Use the following command to run this script for the initial package installation (after creating a new Jupyter Notebook service) and whenever the MLRun service is updated; (the command should be run for each Jupyter Notebook service):"
   ]
  },
  {
   "cell_type": "code",
   "execution_count": null,
   "metadata": {},
   "outputs": [],
   "source": [
    "!/User/align_mlrun.sh"
   ]
  },
  {
   "cell_type": "markdown",
   "metadata": {},
   "source": [
    "<a id=\"platform-resources\"></a>"
   ]
  },
  {
   "cell_type": "markdown",
   "metadata": {},
   "source": [
    "## Additional Platform Resources\n",
    "\n",
    "You can find more information and resources in the MLRun documentation:\n",
    "<br>\n",
    "**&#x25B6; [View the MLRun documentation](https://docs.mlrun.org)**\n",
    "\n",
    "You might also find the following resources useful:\n",
    "\n",
    "- [Introduction video](https://www.youtube.com/watch?v=GS_4XUIudsY)\n",
    "- [Platform Services](https://www.iguazio.com/docs/latest-release/services/)\n",
    "- [Python SDK for management APIs](https://www.iguazio.com/docs/latest-release/cluster-mgmt/mgmt-sdk/): A Python SDK for controlling and performing operations on the the Iguazio system via REST-API.\n",
    "- [Nuclio](https://docs.nuclio.io/en/stable/) for creating and deploying Nuclio functions"
   ]
  },
  {
   "cell_type": "markdown",
   "metadata": {},
   "source": [
    "<a id=\"misc\"></a>"
   ]
  },
  {
   "cell_type": "markdown",
   "metadata": {},
   "source": [
    "## Miscellaneous"
   ]
  },
  {
   "cell_type": "markdown",
   "metadata": {},
   "source": [
    "<a id=\"creating-virtual-environments-in-jupyter-notebook\"></a>\n",
    "### Creating Virtual Environments in Jupyter Notebook\n",
    "\n",
    "A virtual environment is a named, isolated, working copy of Python that maintains its own files, directories, and paths so that you can work with specific versions of libraries or Python itself without affecting other Python projects.\n",
    "Virtual environments make it easy to cleanly separate projects and avoid problems with different dependencies and version requirements across components.\n",
    "See the [virtual-env](virtual-env.ipynb) tutorial notebook for step-by-step instructions for using conda to create your own Python virtual environments, which will appear as custom kernels in Jupyter Notebook."
   ]
  },
  {
   "cell_type": "markdown",
   "metadata": {},
   "source": [
    "<a id=\"v3io-dir\"></a>\n",
    "### The v3io Directory\n",
    "\n",
    "The **v3io** directory that you see in the file browser of the Jupyter UI displays the contents of the `v3io` data mount for browsing the platform data containers. For information about the platform's data containers and how to reference data in these containers, see [Data Containers](https://www.iguazio.com/docs/latest-release/services/data-layer/containers/)."
   ]
  },
  {
   "cell_type": "markdown",
   "metadata": {},
   "source": [
    "<a id=\"support\"></a>\n",
    "### Support\n",
    "\n",
    "The Iguazio [support team](mailto:support@iguazio.com) will be happy to assist with any questions."
   ]
  }
 ],
 "metadata": {
  "kernelspec": {
   "display_name": "Python 3 (ipykernel)",
   "language": "python",
   "name": "python3"
  },
  "language_info": {
   "codemirror_mode": {
    "name": "ipython",
    "version": 3
   },
   "file_extension": ".py",
   "mimetype": "text/x-python",
   "name": "python",
   "nbconvert_exporter": "python",
   "pygments_lexer": "ipython3",
   "version": "3.9.13"
  },
  "vscode": {
   "interpreter": {
    "hash": "916dbcbb3f70747c44a77c7bcd40155683ae19c65e1c03b4aa3499c5328201f1"
   }
  }
 },
 "nbformat": 4,
 "nbformat_minor": 4
}
